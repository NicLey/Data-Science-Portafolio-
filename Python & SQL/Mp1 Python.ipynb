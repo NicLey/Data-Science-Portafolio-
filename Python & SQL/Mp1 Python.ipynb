{
 "cells": [
  {
   "cell_type": "markdown",
   "metadata": {},
   "source": [
    "# Conexion a la base de datos relacional, extraccion directa de informacion, modificacion y eliminacion de informacion **"
   ]
  },
  {
   "cell_type": "code",
   "execution_count": null,
   "metadata": {},
   "outputs": [
    {
     "name": "stdout",
     "output_type": "stream",
     "text": [
      "Conexión exitosa a la base de datos.\n",
      "\n",
      "Consulta 1: Información de la sociedad con RUT 77886308-1\n",
      "(4901949, '77886308-1', 'The Bakery Corner SpA', '2024-01-16', 'PROVIDENCIA', 1000000)\n",
      "\n",
      "\n",
      "Consulta 2: Sociedades con capital mayor o igual a $400.000.000\n",
      "(4969703, '77906387-9', 'LunaMar SpA', '2024-02-24', 'PROVIDENCIA', 450000000)\n",
      "(4964232, '77907317-3', 'Country Roads Rent a Car SpA', '2024-02-27', 'PROVIDENCIA', 500000000)\n",
      "(5008933, '77920466-9', 'Tique SpA', '2024-03-21', 'PROVIDENCIA', 472000000)\n",
      "(5109071, '77948057-7', 'Inmobiliaria Los Carrera SpA', '2024-05-15', 'PROVIDENCIA', 500000000)\n",
      "\n",
      "Insertando una nueva sociedad...\n",
      "Nueva sociedad insertada con éxito.\n",
      "\n",
      "Conexión cerrada.\n"
     ]
    }
   ],
   "source": [
    "import mysql.connector\n",
    "\n",
    "# Configuracion de la conexion\n",
    "config = {\n",
    "    'user': 'root', \n",
    "    'password': 'mysql123',\n",
    "    'host': 'localhost',\n",
    "    'database': 'mp1'\n",
    "}\n",
    "\n",
    "try:\n",
    "    # Conectarse a la base de datos\n",
    "    connection = mysql.connector.connect(**config)\n",
    "    print(\"Conexión exitosa a la base de datos.\\n\")\n",
    "    \n",
    "    cursor = connection.cursor()\n",
    "\n",
    "    # Consulta 1: Obtener información de la sociedad con RUT 77886308-1\n",
    "    print(\"Consulta 1: Información de la sociedad con RUT 77886308-1\")\n",
    "    cursor.execute(\"SELECT * FROM sociedades WHERE rut = '77886308-1';\")\n",
    "    resultado1 = cursor.fetchall()\n",
    "    for fila in resultado1:\n",
    "        print(fila)\n",
    "\n",
    "    print(\"\\n\")\n",
    "\n",
    "    # Consulta 2: Obtener sociedades con capital mayor o igual a $400.000.000\n",
    "    print(\"Consulta 2: Sociedades con capital mayor o igual a $400.000.000\")\n",
    "    cursor.execute(\"SELECT * FROM sociedades WHERE capital >= 400000000;\")\n",
    "    resultado2 = cursor.fetchall()\n",
    "    for fila in resultado2:\n",
    "        print(fila)\n",
    "\n",
    "    # Insertar una nueva sociedad\n",
    "    print(\"\\nInsertando una nueva sociedad...\")\n",
    "    insertar_query = \"\"\"\n",
    "        INSERT INTO sociedades (id, rut, nombre, registro, comuna, capital)\n",
    "        VALUES (%s, %s, %s, %s, %s, %s);\n",
    "    \"\"\"\n",
    "    nueva_sociedad = (5156305, '77721389-K', 'Estrellas SpA', '2024-03-11', 'PROVIDENCIA', 1000000)\n",
    "    cursor.execute(insertar_query, nueva_sociedad)\n",
    "    connection.commit()  # Confirmar los cambios\n",
    "    print(\"Nueva sociedad insertada con éxito.\")\n",
    "\n",
    "except mysql.connector.Error as err:\n",
    "    print(f\"Error: {err}\")\n",
    "\n",
    "finally:\n",
    "    # Cerrar la conexion al final\n",
    "    if 'connection' in locals() and connection.is_connected():\n",
    "        connection.close()\n",
    "        print(\"\\nConexión cerrada.\")\n"
   ]
  }
 ],
 "metadata": {
  "kernelspec": {
   "display_name": "Python 3",
   "language": "python",
   "name": "python3"
  },
  "language_info": {
   "codemirror_mode": {
    "name": "ipython",
    "version": 3
   },
   "file_extension": ".py",
   "mimetype": "text/x-python",
   "name": "python",
   "nbconvert_exporter": "python",
   "pygments_lexer": "ipython3",
   "version": "3.11.9"
  }
 },
 "nbformat": 4,
 "nbformat_minor": 2
}
